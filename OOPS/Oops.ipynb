{
 "cells": [
  {
   "cell_type": "markdown",
   "id": "98da6cd5",
   "metadata": {},
   "source": [
    "#### OOPs Concepts in Python\n",
    "\n",
    "1. Class in Python\n",
    "2. Objects in Python\n",
    "3. Polymorphism in Python\n",
    "4. Encapsulation in Python\n",
    "5. Inheritance in Python\n",
    "6. Data Abstraction in \n",
    "\n",
    "\n",
    "![](https://media.geeksforgeeks.org/wp-content/uploads/20230818181616/Types-of-OOPS-2.gif)"
   ]
  },
  {
   "cell_type": "markdown",
   "id": "9e37e760",
   "metadata": {},
   "source": [
    "#### 1. Python Class \n",
    "\n",
    "A class is a collection of objects. Classes are blueprints for creating objects. A class defines a set of attributes and methods that the created objects (instances) can have.\n",
    "\n",
    "Some points on Python class:  \n",
    "\n",
    "Classes are created by keyword `class`.\n",
    "Attributes are the variables that belong to a class.\n",
    "Attributes are always public and can be accessed using the dot (.) operator. Example: Myclass.Myattribute"
   ]
  },
  {
   "cell_type": "code",
   "execution_count": 1,
   "id": "3fecba5f",
   "metadata": {},
   "outputs": [],
   "source": [
    "class Dog:\n",
    "    species = \"Canine\"  # Class attribute\n",
    "\n",
    "    def __init__(self, name, age):\n",
    "        self.name = name  # Instance attribute\n",
    "        self.age = age  # Instance attribute"
   ]
  },
  {
   "cell_type": "code",
   "execution_count": 2,
   "id": "e4e18f8f",
   "metadata": {},
   "outputs": [
    {
     "name": "stdout",
     "output_type": "stream",
     "text": [
      "Buddy\n",
      "Canine\n"
     ]
    }
   ],
   "source": [
    "# Creating an object of the Dog class\n",
    "dog1 = Dog(\"Buddy\", 3)\n",
    "\n",
    "print(dog1.name) \n",
    "print(dog1.species)"
   ]
  },
  {
   "cell_type": "code",
   "execution_count": 3,
   "metadata": {},
   "outputs": [
    {
     "name": "stdout",
     "output_type": "stream",
     "text": [
      "Sunny\n",
      "Canine\n"
     ]
    }
   ],
   "source": [
    "dog2 = Dog(\"Sunny\", 4)\n",
    "\n",
    "print(dog2.name)\n",
    "print(dog2.species)"
   ]
  },
  {
   "cell_type": "code",
   "execution_count": 5,
   "metadata": {},
   "outputs": [
    {
     "name": "stdout",
     "output_type": "stream",
     "text": [
      "Canine\n",
      "Buddy\n",
      "3\n"
     ]
    }
   ],
   "source": [
    "print(dog1.species)  # Class Variable\n",
    "print(dog1.name)  # Instance Variable \n",
    "print(dog1.age)  # Instance Variable"
   ]
  },
  {
   "cell_type": "code",
   "execution_count": 6,
   "id": "da641566",
   "metadata": {},
   "outputs": [
    {
     "name": "stdout",
     "output_type": "stream",
     "text": [
      "Labrador\n",
      "Labrador\n"
     ]
    }
   ],
   "source": [
    "# Modify class Variable\n",
    "\n",
    "Dog.species = \"Labrador\"\n",
    "\n",
    "print(dog1.species)\n",
    "print(dog2.species)"
   ]
  },
  {
   "cell_type": "markdown",
   "id": "e7a95a0d",
   "metadata": {},
   "source": [
    "### Inheritance in Python\n",
    "\n",
    "\n",
    "Inheritance allows a class (child class) to acquire properties and methods of another class (parent class). It supports hierarchical classification and promotes code reuse.\n",
    "\n",
    "Types of Inheritance:\n",
    "1. Single Inheritance: A child class inherits from a single parent class.\n",
    "2. Multiple Inheritance: A child class inherits from more than one parent class.\n",
    "3. Multilevel Inheritance: A child class inherits from a parent class, which in turn inherits from another class.\n",
    "4. Hierarchical Inheritance: Multiple child classes inherit from a single parent class.\n",
    "5. Hybrid Inheritance: A combination of two or more types of inheritance."
   ]
  },
  {
   "cell_type": "code",
   "execution_count": 7,
   "id": "44a53ed0",
   "metadata": {},
   "outputs": [
    {
     "name": "stdout",
     "output_type": "stream",
     "text": [
      "Dog's Name: Buddy\n",
      "Labrador Woofs\n"
     ]
    }
   ],
   "source": [
    "# Single Inheritance\n",
    "\n",
    "class Dog:\n",
    "    def __init__(self, name):\n",
    "        self.name = name \n",
    "\n",
    "    def display_name(self):\n",
    "        print(f\"Dog's Name: {self.name}\")\n",
    "\n",
    "\n",
    "class Labrador(Dog):\n",
    "    def sound(self):\n",
    "        print(\"Labrador Woofs\")\n",
    "\n",
    "\n",
    "d1 = Labrador(\"Buddy\")\n",
    "d1.display_name()\n",
    "d1.sound()"
   ]
  },
  {
   "cell_type": "code",
   "execution_count": 12,
   "id": "e7e2123d",
   "metadata": {},
   "outputs": [
    {
     "name": "stdout",
     "output_type": "stream",
     "text": [
      "---------------------\n",
      "Dog's Name: Max\n",
      "---------------------\n",
      "Dog's Name: Lucy\n",
      "Labrador Woofs\n",
      "---------------------\n",
      "Dog's Name: Adam\n",
      "Adam guides the way!\n",
      "---------------------\n",
      "Dog's Name: Tiger\n",
      "Friendly!\n",
      "Golder Retriever Barks\n"
     ]
    }
   ],
   "source": [
    "# Multiple Inheritance\n",
    "\n",
    "class Dog:\n",
    "    def __init__(self, name):\n",
    "        self.name = name \n",
    "\n",
    "    def display_name(self):\n",
    "        print(f\"Dog's Name: {self.name}\")\n",
    "\n",
    "\n",
    "class Labrador(Dog):\n",
    "    def sound(self):\n",
    "        print(\"Labrador Woofs\")\n",
    "\n",
    "\n",
    "class GuideDog(Labrador):\n",
    "    def guide(self):\n",
    "        print(f\"{self.name} guides the way!\")\n",
    "\n",
    "\n",
    "class Friendly:\n",
    "    def greet(self):\n",
    "        print(\"Friendly!\")\n",
    "\n",
    "\n",
    "class GoldenRetriver(Dog, Friendly):\n",
    "    def sound(self):\n",
    "        print(\"Golder Retriever Barks\")\n",
    "\n",
    "\n",
    "print(\"---------------------\")\n",
    "d2 = Dog(\"Max\")\n",
    "d2.display_name()\n",
    "\n",
    "print(\"---------------------\")\n",
    "l1 = Labrador(\"Lucy\")\n",
    "l1.display_name()\n",
    "l1.sound()\n",
    "\n",
    "print(\"---------------------\")\n",
    "g1 = GuideDog(\"Adam\")\n",
    "g1.display_name()\n",
    "g1.guide()\n",
    "\n",
    "print(\"---------------------\")\n",
    "r1 = GoldenRetriver(\"Tiger\")\n",
    "r1.display_name()\n",
    "r1.greet()\n",
    "r1.sound()"
   ]
  },
  {
   "cell_type": "markdown",
   "id": "04ef2a7b",
   "metadata": {},
   "source": [
    "### Polymorphism in Python\n",
    "\n",
    "Polymorphism allows methods to have the same name but behave differently based on the object's context. It can be achieved through method overriding or overloading.\n",
    "\n",
    "Types of Polymorphism\n",
    "1. Compile-Time Polymorphism: This type of polymorphism is determined during the compilation of the program. It allows methods or operators with the same name to behave differently based on their input parameters or usage. It is commonly referred to as method or operator overloading.\n",
    "2. Run-Time Polymorphism: This type of polymorphism is determined during the execution of the program. It occurs when a subclass provides a specific implementation for a method already defined in its parent class, commonly known as method overriding."
   ]
  },
  {
   "cell_type": "code",
   "execution_count": 16,
   "metadata": {},
   "outputs": [
    {
     "name": "stdout",
     "output_type": "stream",
     "text": [
      "Dog Sound\n",
      "------------\n",
      "Labrador woofs\n",
      "------------\n",
      "Beagle Barks\n"
     ]
    }
   ],
   "source": [
    "# Parent Class\n",
    "\n",
    "class Dog:\n",
    "    def sound(self):\n",
    "        print(\"Dog Sound\") # Default implementation\n",
    "\n",
    "\n",
    "class Labrador(Dog):\n",
    "    def sound(self):\n",
    "        print(\"Labrador woofs\")  # Overriding parent class\n",
    "\n",
    "\n",
    "class Beagle(Dog):\n",
    "    def sound(self):\n",
    "        print(\"Beagle Barks\") # Overriding parent class\n",
    "\n",
    "\n",
    "d1 = Dog()\n",
    "d1.sound()\n",
    "\n",
    "print(\"------------\")\n",
    "d2 = Labrador()\n",
    "d2.sound()\n",
    "\n",
    "print(\"------------\")\n",
    "d3 = Beagle()\n",
    "d3.sound()"
   ]
  },
  {
   "cell_type": "code",
   "execution_count": 18,
   "metadata": {},
   "outputs": [
    {
     "data": {
      "text/plain": [
       "7"
      ]
     },
     "execution_count": 18,
     "metadata": {},
     "output_type": "execute_result"
    }
   ],
   "source": [
    "# Compile-Time Polymorphism\n",
    "\n",
    "class Calculator:\n",
    "    def add(self, a, b=0, c=0):\n",
    "        return a + b + c \n",
    "    \n",
    "\n",
    "c1 = Calculator()\n",
    "c1.add(5, 2)"
   ]
  },
  {
   "cell_type": "markdown",
   "id": "e6d32511",
   "metadata": {},
   "source": [
    "### Encapsulation in Python \n",
    "\n",
    "Encapsulation is the bundling of data (attributes) and methods (functions) within a class, restricting access to some components to control interactions.\n",
    "\n",
    "A class is an example of encapsulation as it encapsulates all the data that is member functions, variables, etc.\n",
    "\n",
    "\n",
    "Types of Encapsulation:\n",
    "1. Public Members: Accessible from anywhere.\n",
    "2. Protected Members: Accessible within the class and its subclasses.\n",
    "3. Private Members: Accessible only within the class."
   ]
  },
  {
   "cell_type": "code",
   "execution_count": 19,
   "id": "f356d79e",
   "metadata": {},
   "outputs": [],
   "source": [
    "class Dog:\n",
    "    def __init__(self, name, breed, age):\n",
    "        self.name = name    # public attribute \n",
    "        self._breed = breed  # protected attribute\n",
    "        self.__age = age  # private attribute\n",
    "\n",
    "    def get_info(self):\n",
    "        return f\"Name: {self.name}, Breed: {self._breed}, Age: {self.__age}\"\n"
   ]
  },
  {
   "cell_type": "code",
   "execution_count": null,
   "id": "7a441c79",
   "metadata": {},
   "outputs": [],
   "source": []
  }
 ],
 "metadata": {
  "kernelspec": {
   "display_name": "learn",
   "language": "python",
   "name": "python3"
  },
  "language_info": {
   "codemirror_mode": {
    "name": "ipython",
    "version": 3
   },
   "file_extension": ".py",
   "mimetype": "text/x-python",
   "name": "python",
   "nbconvert_exporter": "python",
   "pygments_lexer": "ipython3",
   "version": "3.12.11"
  }
 },
 "nbformat": 4,
 "nbformat_minor": 5
}
